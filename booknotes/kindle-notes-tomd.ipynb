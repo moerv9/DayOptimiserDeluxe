{
 "cells": [
  {
   "cell_type": "code",
   "execution_count": 25,
   "metadata": {},
   "outputs": [],
   "source": [
    "filepath = \"gefahrlichlecker.html\""
   ]
  },
  {
   "cell_type": "code",
   "execution_count": 24,
   "metadata": {},
   "outputs": [],
   "source": [
    "from bs4 import BeautifulSoup\n",
    "import re\n",
    "\n",
    "# Load the HTML content\n",
    "with open(filepath, \"r\", encoding=\"utf-8\") as file:\n",
    "    html_content = file.read()\n",
    "\n",
    "# Parse the HTML content using BeautifulSoup\n",
    "soup = BeautifulSoup(html_content, 'html.parser')\n",
    "\n",
    "# Dynamically extract the book title and author\n",
    "title_div = soup.find('p', string='Ihre Kindle-Notizen für:')\n",
    "book_title = title_div.find_next_sibling('h3').text if title_div else \"Unknown Title\"\n",
    "author = title_div.find_next_sibling('p').text if title_div else \"Unknown Author\"\n",
    "\n",
    "# Extract all the highlight divs\n",
    "highlight_divs = soup.find_all('div', class_='a-row a-spacing-base')\n",
    "\n",
    "highlights = []\n",
    "for div in highlight_divs:\n",
    "    # Extract the highlight text\n",
    "    highlight_text_div = div.find('div', class_='kp-notebook-highlight')\n",
    "    highlight_text = highlight_text_div.span.text.strip() if highlight_text_div and highlight_text_div.span else None\n",
    "\n",
    "    if highlight_text:\n",
    "        highlights.append(highlight_text)\n",
    "\n",
    "# Construct the markdown content with the desired format\n",
    "markdown_content = f\"### Title:\\n{book_title}\\n\\n\"\n",
    "markdown_content += f\"### Autor:\\n{author}\\n\\n\"\n",
    "markdown_content += \"### Status:\\n- [ ] to read\\n- [ ] reading\\n- [ ] read\\n\\n---\\n\\n\"\n",
    "markdown_content += \"### The book in 3 sentences\\n1. \\n2. \\n3. \\n\\n\"\n",
    "markdown_content += \"### How the book changed me\\n\\n### 3 favorite  quotes\\n\\n---\\n\\n## Notes\\n\\n\"\n",
    "\n",
    "\n",
    "for highlight_text in highlights:\n",
    "    markdown_content += f\"{highlight_text}\\n\\n---\\n\\n\"\n",
    "\n",
    "    # Split the title on \":\" and take the first part for the filename\n",
    "filename_title = book_title.split(\":\")[0].strip()\n",
    "\n",
    "# Replace spaces and other unwanted characters in the title to create the filename\n",
    "markdown_filename = filename_title.replace(\" \", \"_\").replace(\",\", \"\") + \".md\"\n",
    "\n",
    "\n",
    "# Save the markdown content to a file with the book title as the filename\n",
    "with open(markdown_filename, 'w', encoding='utf-8') as file:\n",
    "    file.write(markdown_content)\n"
   ]
  }
 ],
 "metadata": {
  "kernelspec": {
   "display_name": "DayOptimiserDeluxe",
   "language": "python",
   "name": "python3"
  },
  "language_info": {
   "codemirror_mode": {
    "name": "ipython",
    "version": 3
   },
   "file_extension": ".py",
   "mimetype": "text/x-python",
   "name": "python",
   "nbconvert_exporter": "python",
   "pygments_lexer": "ipython3",
   "version": "3.11.3"
  }
 },
 "nbformat": 4,
 "nbformat_minor": 2
}
